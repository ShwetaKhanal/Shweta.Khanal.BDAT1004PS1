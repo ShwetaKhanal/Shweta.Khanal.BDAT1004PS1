{
 "cells": [
  {
   "cell_type": "markdown",
   "id": "18e64cce",
   "metadata": {},
   "source": [
    "## Problem Set 1"
   ]
  },
  {
   "cell_type": "markdown",
   "id": "1b57d0ab",
   "metadata": {},
   "source": [
    "### Question 1\n",
    "#### What data type is each of the following?"
   ]
  },
  {
   "cell_type": "markdown",
   "id": "c32ab31a",
   "metadata": {},
   "source": [
    "__Answer__\n",
    "<br>5---------------------------------------------------------------------Numeric(Integer)\n",
    "<br>5.0-------------------------------------------------------------------Numeric(Float)\n",
    "<br>5 > 1----------------------------------------------------------------Boolean\n",
    "<br>'5'--------------------------------------------------------------------String\n",
    "<br>5 * 2------------------------------------------------------------------Numeric(Integer)\n",
    "<br>'5' * 2----------------------------------------------------------------String\n",
    "<br>'5' + '2'--------------------------------------------------------------String\n",
    "<br>5 / 2------------------------------------------------------------------Numeric(Float)\n",
    "<br>5 % 2-----------------------------------------------------------------Numeric(Integer)\n",
    "<br>{5, 2, 1}--------------------------------------------------------------Dictionary(set)\n",
    "<br>5 == 3-----------------------------------------------------------------Boolean\n",
    "<br>Pi (the number)-----------------------------------------------------Numeric(Float)"
   ]
  },
  {
   "cell_type": "code",
   "execution_count": 9,
   "id": "c1ba9cd8",
   "metadata": {},
   "outputs": [
    {
     "name": "stdout",
     "output_type": "stream",
     "text": [
      "<class 'int'>\n",
      "<class 'float'>\n",
      "<class 'bool'>\n",
      "<class 'str'>\n",
      "<class 'int'>\n",
      "<class 'str'>\n",
      "<class 'str'>\n",
      "<class 'float'>\n",
      "<class 'int'>\n",
      "<class 'set'>\n",
      "<class 'bool'>\n",
      "<class 'float'>\n"
     ]
    }
   ],
   "source": [
    "print(type (5))\n",
    "print(type(5.0))\n",
    "print(type(5 > 1))\n",
    "print(type('5'))\n",
    "print(type(5 * 2))\n",
    "print(type('5' * 2))\n",
    "print(type('5' + '2'))\n",
    "print(type(5 / 2))\n",
    "print(type(5 % 2))\n",
    "print(type({5, 2, 1}))\n",
    "print(type(5 == 3))\n",
    "import math\n",
    "print(type(math.pi))"
   ]
  },
  {
   "cell_type": "markdown",
   "id": "b8d3bab6",
   "metadata": {},
   "source": [
    "### Question 2\n",
    "#### Write (and evaluate) python expressions that answer these questions:\n",
    "a. How many letters are there in 'Supercalifragilisticexpialidocious'?\n",
    "<br>__Answer.__ 34\n",
    "\n",
    "b. Does 'Supercalifragilisticexpialidocious' contain 'ice' as a substring? \n",
    "<br>__Answer.__ Yes\n",
    "\n",
    "c. Which of the following words is the longest:Supercalifragilisticexpialidocious, Honorificabilitudinitatibus, or Bababadalgharaghtakamminarronnkonn?\n",
    "<br>__Answer.__ Supercalifragilisticexpialidocious  and  Bababadalgharaghtakamminarronnkonn are equal in length\n",
    "\n",
    "d. Which composer comes first in the dictionary: 'Berlioz', 'Borodin', 'Brian','Bartok', 'Bellini', 'Buxtehude', 'Bernstein'. Which one comes last?\n",
    "<br>__Answer.__ 'Bartok' comes first and 'Buxtehude' comes last"
   ]
  },
  {
   "cell_type": "code",
   "execution_count": 17,
   "id": "0bd4ea6d",
   "metadata": {},
   "outputs": [
    {
     "name": "stdout",
     "output_type": "stream",
     "text": [
      "34\n"
     ]
    }
   ],
   "source": [
    "print(len('Supercalifragilisticexpialidocious'))"
   ]
  },
  {
   "cell_type": "code",
   "execution_count": 11,
   "id": "5c0865be",
   "metadata": {},
   "outputs": [
    {
     "name": "stdout",
     "output_type": "stream",
     "text": [
      "True\n"
     ]
    }
   ],
   "source": [
    "print('ice'in 'Supercalifragilisticexpialidocious')"
   ]
  },
  {
   "cell_type": "code",
   "execution_count": 77,
   "id": "ddebb107",
   "metadata": {},
   "outputs": [
    {
     "name": "stdout",
     "output_type": "stream",
     "text": [
      "Supercalifragilisticexpialidocious  and  Bababadalgharaghtakamminarronnkonn are equal in length\n"
     ]
    }
   ],
   "source": [
    "a= 'Supercalifragilisticexpialidocious'\n",
    "b= 'Honorificabilitudinitatibus'\n",
    "c= 'Bababadalgharaghtakamminarronnkonn'\n",
    "\n",
    "if len(a)==len(b): print(a,' and ',b, 'are equal in length')\n",
    "if len(b)==len(c): print(b,' and ',c, 'are equal in length')\n",
    "if len(a)==len(c): print(a,' and ',c, 'are equal in length')\n",
    "   \n",
    "if 1>2: \n",
    "    if len(a)>len(c):print(a) \n",
    "    elif len(a)<len(c): print(c)\n",
    "elif len(b)>len(c):print(b)\n",
    "elif len(c)<len(b):print(c)\n"
   ]
  },
  {
   "cell_type": "code",
   "execution_count": 50,
   "id": "00f3f863",
   "metadata": {},
   "outputs": [
    {
     "name": "stdout",
     "output_type": "stream",
     "text": [
      "['Bartok', 'Bellini', 'Berlioz', 'Bernstein', 'Borodin', 'Brian', 'Buxtehude']\n"
     ]
    }
   ],
   "source": [
    "lst= ['Berlioz', 'Borodin', 'Brian','Bartok', 'Bellini', 'Buxtehude', 'Bernstein']\n",
    "lst.sort()\n",
    "print(lst)"
   ]
  },
  {
   "cell_type": "markdown",
   "id": "920dcab2",
   "metadata": {},
   "source": [
    "### Question 3\n",
    "#### Implement function triangleArea(a,b,c) that takes as input the lengths of the 3 sides of a triangle and returns the area of the triangle. \n"
   ]
  },
  {
   "cell_type": "code",
   "execution_count": 2,
   "id": "aae85b0d",
   "metadata": {},
   "outputs": [],
   "source": [
    "def triangleArea(a,b,c):\n",
    "    import math\n",
    "    s = (a+b+c)/2\n",
    "    area= math.sqrt(s*(s - a)*(s -b)*(s -c))\n",
    "    print(area)"
   ]
  },
  {
   "cell_type": "code",
   "execution_count": 3,
   "id": "4a46b991",
   "metadata": {},
   "outputs": [
    {
     "name": "stdout",
     "output_type": "stream",
     "text": [
      "1.7320508075688772\n"
     ]
    }
   ],
   "source": [
    "triangleArea(2,2,2)"
   ]
  },
  {
   "cell_type": "markdown",
   "id": "8a8a0e65",
   "metadata": {},
   "source": [
    "### Question 4\n",
    "#### Write a program in python to separate odd and even integers in separate arrays."
   ]
  },
  {
   "cell_type": "code",
   "execution_count": 7,
   "id": "2752f3d4",
   "metadata": {},
   "outputs": [],
   "source": [
    "def sortValue(lst):\n",
    "    odd = []\n",
    "    even = []\n",
    "    for i in lst:\n",
    "        if (i % 2 == 0):\n",
    "            even.append(i)\n",
    "        else:\n",
    "            odd.append(i)\n",
    "    print(\"The Even elements are:\", even)\n",
    "    print(\"The Odd elements are:\", odd)"
   ]
  },
  {
   "cell_type": "code",
   "execution_count": 8,
   "id": "ec5b178d",
   "metadata": {},
   "outputs": [
    {
     "name": "stdout",
     "output_type": "stream",
     "text": [
      "The Even elements are: [42, 56, 32]\n",
      "The Odd elements are: [25, 47]\n"
     ]
    }
   ],
   "source": [
    "sortValue([25,47,42,56,32])"
   ]
  },
  {
   "cell_type": "markdown",
   "id": "203514d6",
   "metadata": {},
   "source": [
    "### Question 5\n",
    "#### a. Write a function inside(x,y,x1,y1,x2,y2) that returns True or False depending on whether the point (x,y) lies in the rectangle with lower left corner (x1,y1) and upper right corner (x2,y2).\n",
    "\n",
    "#### b. Use function inside() from part a. to write an expression that tests whether the point (1,1) lies in both of the following rectangles: one with lower left corner (0.3, 0.5) and upper right corner (1.1, 0.7) and the other with lower left corner (0.5, 0.2) and upper right corner (1.1, 2). "
   ]
  },
  {
   "cell_type": "code",
   "execution_count": 25,
   "id": "17cbb6a3",
   "metadata": {},
   "outputs": [],
   "source": [
    "#question a\n",
    "\n",
    "def inside(x,y,x1,y1,x2,y2):\n",
    "    if x2>=x>=x1:\n",
    "        if y2>=y>=y1: \n",
    "            return (True)\n",
    "        else: return (False)\n",
    "    else: \n",
    "        return (False)\n",
    "    "
   ]
  },
  {
   "cell_type": "code",
   "execution_count": 26,
   "id": "aa9e4f96",
   "metadata": {},
   "outputs": [
    {
     "data": {
      "text/plain": [
       "True"
      ]
     },
     "execution_count": 26,
     "metadata": {},
     "output_type": "execute_result"
    }
   ],
   "source": [
    "inside(1,1,0,0,2,3)"
   ]
  },
  {
   "cell_type": "code",
   "execution_count": 27,
   "id": "ea8b898d",
   "metadata": {},
   "outputs": [
    {
     "data": {
      "text/plain": [
       "False"
      ]
     },
     "execution_count": 27,
     "metadata": {},
     "output_type": "execute_result"
    }
   ],
   "source": [
    "inside(-1,-1,0,0,2,3)"
   ]
  },
  {
   "cell_type": "code",
   "execution_count": 45,
   "id": "76249e7f",
   "metadata": {},
   "outputs": [
    {
     "name": "stdout",
     "output_type": "stream",
     "text": [
      "False\n"
     ]
    }
   ],
   "source": [
    "#question b\n",
    "\n",
    "if (inside (1,1,0.5,0.2,1.1,2)) == (inside(1,1,0.3,0.5,1.1,0.7))== True: print('True')\n",
    "else: print('False')"
   ]
  },
  {
   "cell_type": "code",
   "execution_count": null,
   "id": "b78f232e",
   "metadata": {},
   "outputs": [],
   "source": []
  },
  {
   "cell_type": "markdown",
   "id": "469d7ed8",
   "metadata": {},
   "source": [
    "### Question 6\n",
    "\n",
    "#### Write a function pig() that takes a word (i.e., a string) as input and returns its pigLatin form. Your function should still work if the input word contains upper case characters. Your output should always be lower case however.\n"
   ]
  },
  {
   "cell_type": "code",
   "execution_count": 36,
   "id": "c2598f9a",
   "metadata": {},
   "outputs": [
    {
     "name": "stdout",
     "output_type": "stream",
     "text": [
      "Enter a wordconstantine\n",
      "Pig Latin word:  onstantinecay\n"
     ]
    }
   ],
   "source": [
    "def pig():\n",
    "    word= input('Enter a word')\n",
    "    \n",
    "    if word[0] in ['a','e','i','o','u']:\n",
    "        pigLatin= word+'way'\n",
    "    else:\n",
    "        pigLatin= word[1:(len(word))]+word[0]+'ay'\n",
    "    print('Pig Latin word: ',pigLatin.lower())\n",
    "\n",
    "pig()"
   ]
  },
  {
   "cell_type": "markdown",
   "id": "7c0ee301",
   "metadata": {},
   "source": [
    "### Question 7\n",
    "#### File bloodtype1.txt records blood-types of patients (A, B, AB, O or OO) at a clinic. Write a function bldcount() that reads the file with name name and reports (i.e.,prints) how many patients there are in each bloodtype.\n",
    "\n"
   ]
  },
  {
   "cell_type": "code",
   "execution_count": 86,
   "id": "1c30f8c8",
   "metadata": {
    "scrolled": true
   },
   "outputs": [],
   "source": [
    "def bloodcount(bc):\n",
    "    bloodcount= open(bc)\n",
    "    content = bloodcount.read()\n",
    "    print('There are',content.count('A '), 'patients of blood type A')\n",
    "    print('There are',content.count('B '), 'patients of blood type B')\n",
    "    print('There are',content.count('AB'), 'patients of blood type AB')\n",
    "    print('There are',content.count('O'), 'patients of blood type O')\n",
    "    print('There are',content.count('OO'), 'patients of blood type OO')\n"
   ]
  },
  {
   "cell_type": "code",
   "execution_count": 85,
   "id": "2ef926b1",
   "metadata": {},
   "outputs": [
    {
     "name": "stdout",
     "output_type": "stream",
     "text": [
      "There are 15 patients of blood type A\n",
      "There are 14 patients of blood type B\n",
      "There are 13 patients of blood type AB\n",
      "There are 15 patients of blood type O\n",
      "There are 0 patients of blood type OO\n"
     ]
    }
   ],
   "source": [
    "bloodcount('bloodtype1.txt')"
   ]
  },
  {
   "cell_type": "markdown",
   "id": "cb45dab7",
   "metadata": {},
   "source": [
    "### Question 8\n",
    "#### Write a function curconv() that takes as input: 1. a currency represented using a string (e.g., 'JPY' for the Japanese Yen or 'EUR' for the Euro) 2. an amount and then converts and returns the amount in US dollars."
   ]
  },
  {
   "cell_type": "code",
   "execution_count": 13,
   "id": "2caf4754",
   "metadata": {},
   "outputs": [],
   "source": [
    "def curconv():\n",
    "    text= open('currencies.txt')\n",
    "    content = text.read()\n",
    "    #print(con)\n",
    "    lst=content.split()\n",
    "    \n",
    "    a= input('currency')\n",
    "    amt = float (input('Amount'))\n",
    "    \n",
    "    #index= content.find(a)\n",
    "    index= lst.index(a)        \n",
    "    val=float (lst[index+1])\n",
    "    \n",
    "    converted=amt*val\n",
    "    print('converted value is ', converted)\n",
    "    "
   ]
  },
  {
   "cell_type": "code",
   "execution_count": 14,
   "id": "06ca055e",
   "metadata": {},
   "outputs": [
    {
     "name": "stdout",
     "output_type": "stream",
     "text": [
      "currencyEUR\n",
      "Amount100\n",
      "converted value is  122.96544\n"
     ]
    }
   ],
   "source": [
    "curconv()"
   ]
  },
  {
   "cell_type": "markdown",
   "id": "c6aa9563",
   "metadata": {},
   "source": [
    "### Question 9\n",
    "#### Each of the following will cause an exception (an error). Identify what type of exception each will cause.\n",
    "\n",
    "<br> a. Trying to add incompatible variables, as in adding 6 + ‘a’\n",
    "<br>__Answer.__ Type Error\n",
    "<br>b. Referring to the 12th item of a list that has only 10 items\n",
    "<br>__Answer.__ Index Error\n",
    "<br>c. Using a value that is out of range for a function’s input, such as calling math.sqrt(-1.0)\n",
    "<br>__Answer.__ Value Error\n",
    "<br>d. Using an undeclared variable, such as print(x) when x has not been defined\n",
    "<br>__Answer.__ Name Error\n",
    "<br>e. Trying to open a file that does not exist, such as mistyping the file name or looking in the wrong 'directory. \n",
    "<br>__Answer.__ FileNotFound Error"
   ]
  },
  {
   "cell_type": "code",
   "execution_count": 15,
   "id": "8fd5398a",
   "metadata": {},
   "outputs": [
    {
     "ename": "TypeError",
     "evalue": "unsupported operand type(s) for +: 'int' and 'str'",
     "output_type": "error",
     "traceback": [
      "\u001b[1;31m---------------------------------------------------------------------------\u001b[0m",
      "\u001b[1;31mTypeError\u001b[0m                                 Traceback (most recent call last)",
      "Cell \u001b[1;32mIn[15], line 1\u001b[0m\n\u001b[1;32m----> 1\u001b[0m \u001b[38;5;241;43m6\u001b[39;49m\u001b[38;5;241;43m+\u001b[39;49m\u001b[38;5;124;43m'\u001b[39;49m\u001b[38;5;124;43ma\u001b[39;49m\u001b[38;5;124;43m'\u001b[39;49m\n",
      "\u001b[1;31mTypeError\u001b[0m: unsupported operand type(s) for +: 'int' and 'str'"
     ]
    }
   ],
   "source": [
    "6+'a'"
   ]
  },
  {
   "cell_type": "code",
   "execution_count": 16,
   "id": "9d7dffc9",
   "metadata": {},
   "outputs": [
    {
     "ename": "IndexError",
     "evalue": "list index out of range",
     "output_type": "error",
     "traceback": [
      "\u001b[1;31m---------------------------------------------------------------------------\u001b[0m",
      "\u001b[1;31mIndexError\u001b[0m                                Traceback (most recent call last)",
      "Cell \u001b[1;32mIn[16], line 2\u001b[0m\n\u001b[0;32m      1\u001b[0m lst\u001b[38;5;241m=\u001b[39m[\u001b[38;5;241m0\u001b[39m,\u001b[38;5;241m1\u001b[39m,\u001b[38;5;241m2\u001b[39m,\u001b[38;5;241m3\u001b[39m,\u001b[38;5;241m4\u001b[39m,\u001b[38;5;241m5\u001b[39m,\u001b[38;5;241m6\u001b[39m,\u001b[38;5;241m7\u001b[39m,\u001b[38;5;241m8\u001b[39m,\u001b[38;5;241m9\u001b[39m]\n\u001b[1;32m----> 2\u001b[0m \u001b[38;5;28mprint\u001b[39m(\u001b[43mlst\u001b[49m\u001b[43m[\u001b[49m\u001b[38;5;241;43m12\u001b[39;49m\u001b[43m]\u001b[49m)\n",
      "\u001b[1;31mIndexError\u001b[0m: list index out of range"
     ]
    }
   ],
   "source": [
    "lst=[0,1,2,3,4,5,6,7,8,9]\n",
    "print(lst[12])"
   ]
  },
  {
   "cell_type": "code",
   "execution_count": 17,
   "id": "d840f391",
   "metadata": {},
   "outputs": [
    {
     "ename": "ValueError",
     "evalue": "math domain error",
     "output_type": "error",
     "traceback": [
      "\u001b[1;31m---------------------------------------------------------------------------\u001b[0m",
      "\u001b[1;31mValueError\u001b[0m                                Traceback (most recent call last)",
      "Cell \u001b[1;32mIn[17], line 2\u001b[0m\n\u001b[0;32m      1\u001b[0m \u001b[38;5;28;01mimport\u001b[39;00m \u001b[38;5;21;01mmath\u001b[39;00m\n\u001b[1;32m----> 2\u001b[0m \u001b[43mmath\u001b[49m\u001b[38;5;241;43m.\u001b[39;49m\u001b[43msqrt\u001b[49m\u001b[43m(\u001b[49m\u001b[38;5;241;43m-\u001b[39;49m\u001b[38;5;241;43m1.0\u001b[39;49m\u001b[43m)\u001b[49m\n",
      "\u001b[1;31mValueError\u001b[0m: math domain error"
     ]
    }
   ],
   "source": [
    "import math\n",
    "math.sqrt(-1.0)"
   ]
  },
  {
   "cell_type": "code",
   "execution_count": 18,
   "id": "eda81fe7",
   "metadata": {},
   "outputs": [
    {
     "ename": "NameError",
     "evalue": "name 'x' is not defined",
     "output_type": "error",
     "traceback": [
      "\u001b[1;31m---------------------------------------------------------------------------\u001b[0m",
      "\u001b[1;31mNameError\u001b[0m                                 Traceback (most recent call last)",
      "Cell \u001b[1;32mIn[18], line 1\u001b[0m\n\u001b[1;32m----> 1\u001b[0m \u001b[38;5;28mprint\u001b[39m(\u001b[43mx\u001b[49m)\n",
      "\u001b[1;31mNameError\u001b[0m: name 'x' is not defined"
     ]
    }
   ],
   "source": [
    "print(x)"
   ]
  },
  {
   "cell_type": "code",
   "execution_count": 19,
   "id": "29d3de01",
   "metadata": {},
   "outputs": [
    {
     "ename": "FileNotFoundError",
     "evalue": "[Errno 2] No such file or directory: 'text.txt'",
     "output_type": "error",
     "traceback": [
      "\u001b[1;31m---------------------------------------------------------------------------\u001b[0m",
      "\u001b[1;31mFileNotFoundError\u001b[0m                         Traceback (most recent call last)",
      "Cell \u001b[1;32mIn[19], line 1\u001b[0m\n\u001b[1;32m----> 1\u001b[0m \u001b[38;5;28;43mopen\u001b[39;49m\u001b[43m \u001b[49m\u001b[43m(\u001b[49m\u001b[38;5;124;43m'\u001b[39;49m\u001b[38;5;124;43mtext.txt\u001b[39;49m\u001b[38;5;124;43m'\u001b[39;49m\u001b[43m)\u001b[49m\n",
      "File \u001b[1;32m~\\anaconda3\\lib\\site-packages\\IPython\\core\\interactiveshell.py:282\u001b[0m, in \u001b[0;36m_modified_open\u001b[1;34m(file, *args, **kwargs)\u001b[0m\n\u001b[0;32m    275\u001b[0m \u001b[38;5;28;01mif\u001b[39;00m file \u001b[38;5;129;01min\u001b[39;00m {\u001b[38;5;241m0\u001b[39m, \u001b[38;5;241m1\u001b[39m, \u001b[38;5;241m2\u001b[39m}:\n\u001b[0;32m    276\u001b[0m     \u001b[38;5;28;01mraise\u001b[39;00m \u001b[38;5;167;01mValueError\u001b[39;00m(\n\u001b[0;32m    277\u001b[0m         \u001b[38;5;124mf\u001b[39m\u001b[38;5;124m\"\u001b[39m\u001b[38;5;124mIPython won\u001b[39m\u001b[38;5;124m'\u001b[39m\u001b[38;5;124mt let you open fd=\u001b[39m\u001b[38;5;132;01m{\u001b[39;00mfile\u001b[38;5;132;01m}\u001b[39;00m\u001b[38;5;124m by default \u001b[39m\u001b[38;5;124m\"\u001b[39m\n\u001b[0;32m    278\u001b[0m         \u001b[38;5;124m\"\u001b[39m\u001b[38;5;124mas it is likely to crash IPython. If you know what you are doing, \u001b[39m\u001b[38;5;124m\"\u001b[39m\n\u001b[0;32m    279\u001b[0m         \u001b[38;5;124m\"\u001b[39m\u001b[38;5;124myou can use builtins\u001b[39m\u001b[38;5;124m'\u001b[39m\u001b[38;5;124m open.\u001b[39m\u001b[38;5;124m\"\u001b[39m\n\u001b[0;32m    280\u001b[0m     )\n\u001b[1;32m--> 282\u001b[0m \u001b[38;5;28;01mreturn\u001b[39;00m io_open(file, \u001b[38;5;241m*\u001b[39margs, \u001b[38;5;241m*\u001b[39m\u001b[38;5;241m*\u001b[39mkwargs)\n",
      "\u001b[1;31mFileNotFoundError\u001b[0m: [Errno 2] No such file or directory: 'text.txt'"
     ]
    }
   ],
   "source": [
    "open ('text.txt')"
   ]
  },
  {
   "cell_type": "markdown",
   "id": "f77c1ca2",
   "metadata": {},
   "source": [
    "### Question 10\n",
    "#### Assume that the string letters is already defined as 'abcdefghijklmnopqrstuvwxyz'. Write a function called frequencies() that takes a string as its only parameter, and returns a list of integers, showing the number of times each character appears in the text. Your function may ignore any characters that are not in letters."
   ]
  },
  {
   "cell_type": "code",
   "execution_count": 25,
   "id": "83780103",
   "metadata": {},
   "outputs": [],
   "source": [
    "def frequencies(string):\n",
    "    letters=['a','b','c','d','e','f','g','h','i','j','k','l','m','n','o','p','q','r','s','t','u','v','w','x','y','z']\n",
    "    count=[]\n",
    "    for i in letters:\n",
    "        print(string.count(i),end='')"
   ]
  },
  {
   "cell_type": "code",
   "execution_count": 26,
   "id": "0c0c41a8",
   "metadata": {},
   "outputs": [
    {
     "name": "stdout",
     "output_type": "stream",
     "text": [
      "10001000000100020000000000"
     ]
    }
   ],
   "source": [
    "frequencies('apple')"
   ]
  },
  {
   "cell_type": "code",
   "execution_count": null,
   "id": "9e18c9a4",
   "metadata": {},
   "outputs": [],
   "source": []
  }
 ],
 "metadata": {
  "kernelspec": {
   "display_name": "Python 3 (ipykernel)",
   "language": "python",
   "name": "python3"
  },
  "language_info": {
   "codemirror_mode": {
    "name": "ipython",
    "version": 3
   },
   "file_extension": ".py",
   "mimetype": "text/x-python",
   "name": "python",
   "nbconvert_exporter": "python",
   "pygments_lexer": "ipython3",
   "version": "3.10.9"
  }
 },
 "nbformat": 4,
 "nbformat_minor": 5
}
